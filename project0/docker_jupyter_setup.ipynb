{
 "cells": [
  {
   "cell_type": "code",
   "execution_count": 1,
   "id": "c6a28afd-ac86-4a7f-a667-8f8b16bb1198",
   "metadata": {},
   "outputs": [
    {
     "name": "stdout",
     "output_type": "stream",
     "text": [
      "Name: Rayhan Patel | UID: 122087934\n",
      "Python: 3.9.7\n",
      "System: Linux 6.10.14-linuxkit\n",
      "Running inside Docker: True\n"
     ]
    }
   ],
   "source": [
    "import platform\n",
    "import os\n",
    "\n",
    "print(\"Name: Rayhan Patel | UID: 122087934\")\n",
    "print(\"Python:\", platform.python_version())\n",
    "print(\"System:\", platform.system(), platform.release())\n",
    "print(\"Running inside Docker:\", os.path.exists(\"/.dockerenv\"))\n"
   ]
  },
  {
   "cell_type": "code",
   "execution_count": null,
   "id": "e518946e-ef08-49a9-bc8a-cde1c9bf3f30",
   "metadata": {},
   "outputs": [],
   "source": []
  }
 ],
 "metadata": {
  "kernelspec": {
   "display_name": "Python 3 (ipykernel)",
   "language": "python",
   "name": "python3"
  },
  "language_info": {
   "codemirror_mode": {
    "name": "ipython",
    "version": 3
   },
   "file_extension": ".py",
   "mimetype": "text/x-python",
   "name": "python",
   "nbconvert_exporter": "python",
   "pygments_lexer": "ipython3",
   "version": "3.9.7"
  }
 },
 "nbformat": 4,
 "nbformat_minor": 5
}
